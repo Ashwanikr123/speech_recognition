{
 "cells": [
  {
   "cell_type": "code",
   "execution_count": 6,
   "id": "bb518632-2626-425c-b155-490ece71c94f",
   "metadata": {},
   "outputs": [],
   "source": [
    "import speech_recognition as sr"
   ]
  },
  {
   "cell_type": "code",
   "execution_count": 7,
   "id": "0f530fa4-3ceb-4f2e-baaa-2b27dbe606d5",
   "metadata": {},
   "outputs": [],
   "source": [
    "recognizer=sr.Recognizer()"
   ]
  },
  {
   "cell_type": "code",
   "execution_count": 8,
   "id": "5e38fcec-fad5-45d9-8451-bc6378e7db41",
   "metadata": {},
   "outputs": [
    {
     "name": "stdout",
     "output_type": "stream",
     "text": [
      "please say something\n"
     ]
    }
   ],
   "source": [
    "print(\"please say something\")"
   ]
  },
  {
   "cell_type": "code",
   "execution_count": 9,
   "id": "52bf9bdc-46ef-4615-a951-16008c73117a",
   "metadata": {},
   "outputs": [
    {
     "name": "stdout",
     "output_type": "stream",
     "text": [
      "Recording complete. Recognizing...\n"
     ]
    }
   ],
   "source": [
    "with sr.Microphone() as source:\n",
    "    recognizer.adjust_for_ambient_noise(source)\n",
    "    audio_data = recognizer.listen(source)\n",
    "    print(\"Recording complete. Recognizing...\")\n",
    "    "
   ]
  },
  {
   "cell_type": "code",
   "execution_count": 10,
   "id": "d2debee9-e976-40a1-9e49-5f6624e31398",
   "metadata": {},
   "outputs": [
    {
     "name": "stdout",
     "output_type": "stream",
     "text": [
      "Sorry, could not understand the audio.\n"
     ]
    }
   ],
   "source": [
    "try:\n",
    "    text = recognizer.recognize_google(audio_data)\n",
    "    print(\"You said: \", text)\n",
    "except sr.UnknownValueError:\n",
    "    print(\"Sorry, could not understand the audio.\")\n",
    "except sr.RequestError as e:\n",
    "    print(\"Could not request results; check your internet connection.\")"
   ]
  },
  {
   "cell_type": "code",
   "execution_count": null,
   "id": "2c5345a5-219b-4be6-9a13-0ec8c836512b",
   "metadata": {},
   "outputs": [],
   "source": []
  },
  {
   "cell_type": "code",
   "execution_count": null,
   "id": "97b62275-1070-4c9b-870f-afa562f9fd2a",
   "metadata": {},
   "outputs": [],
   "source": []
  }
 ],
 "metadata": {
  "kernelspec": {
   "display_name": "Python 3 (ipykernel)",
   "language": "python",
   "name": "python3"
  },
  "language_info": {
   "codemirror_mode": {
    "name": "ipython",
    "version": 3
   },
   "file_extension": ".py",
   "mimetype": "text/x-python",
   "name": "python",
   "nbconvert_exporter": "python",
   "pygments_lexer": "ipython3",
   "version": "3.13.3"
  }
 },
 "nbformat": 4,
 "nbformat_minor": 5
}
