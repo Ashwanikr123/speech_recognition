{
 "cells": [
  {
   "cell_type": "code",
   "execution_count": null,
   "id": "c05c458a-a927-4ba1-ad71-d6a8a4a65e13",
   "metadata": {},
   "outputs": [],
   "source": []
  },
  {
   "cell_type": "code",
   "execution_count": 4,
   "id": "937bcf68-a439-4a8a-a937-5370fe75be52",
   "metadata": {},
   "outputs": [
    {
     "name": "stdout",
     "output_type": "stream",
     "text": [
      "{'coord': {'lon': 78.4744, 'lat': 17.3753}, 'weather': [{'id': 803, 'main': 'Clouds', 'description': 'broken clouds', 'icon': '04n'}], 'base': 'stations', 'main': {'temp': 24.23, 'feels_like': 25.16, 'temp_min': 24.23, 'temp_max': 24.73, 'pressure': 1004, 'humidity': 94, 'sea_level': 1004, 'grnd_level': 940}, 'visibility': 3000, 'wind': {'speed': 3.09, 'deg': 180}, 'clouds': {'all': 75}, 'dt': 1748100841, 'sys': {'type': 1, 'id': 9214, 'country': 'IN', 'sunrise': 1748045525, 'sunset': 1748092445}, 'timezone': 19800, 'id': 1269843, 'name': 'Hyderabad', 'cod': 200}\n",
      "City: hyderabad\n",
      "Temperature: 24.23 °C\n",
      "Weather: broken clouds\n"
     ]
    }
   ],
   "source": [
    "import requests #requests library- send HTTP requests (GET, POST, etc.) to web APIs.\n",
    "\n",
    "#Replace with your actual API key\n",
    "api_key = '34af09d6a062eeed14b54ec815ab562e' #unique key provided by OpenWeatherMap to authenticate \n",
    "city = 'hyderabad' #city to fetch weather data \n",
    "url =  f'https://api.openweathermap.org/data/2.5/weather?q={city}&appid={api_key}&units=metric' # URL for the API request.\n",
    "\n",
    "response = requests.get(url) # sends an HTTP GET request to the API URL.\n",
    "data = response.json() #converts the response from JSON format into a Python dictionary.\n",
    "\n",
    "#Print full response\n",
    "print(data)\n",
    "\n",
    "# Extract some values\n",
    "temperature = data['main']['temp']\n",
    "weather = data['weather'][0]['description']\n",
    "\n",
    "print(f'City: {city}')\n",
    "print(f'Temperature: {temperature} °C')\n",
    "print(f'Weather: {weather}')\n"
   ]
  }
 ],
 "metadata": {
  "kernelspec": {
   "display_name": "Python 3 (ipykernel)",
   "language": "python",
   "name": "python3"
  },
  "language_info": {
   "codemirror_mode": {
    "name": "ipython",
    "version": 3
   },
   "file_extension": ".py",
   "mimetype": "text/x-python",
   "name": "python",
   "nbconvert_exporter": "python",
   "pygments_lexer": "ipython3",
   "version": "3.13.3"
  }
 },
 "nbformat": 4,
 "nbformat_minor": 5
}
